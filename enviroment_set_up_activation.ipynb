{
  "cells": [
    {
      "cell_type": "markdown",
      "source": [
        "# This file is designed to: \n",
        "\n",
        "## 1. Set up an enviroment (if you are the first person using it). \n",
        "## 2. Activate the enviroment (if you are using the repo). \n",
        "\n",
        "#### change out the enviroment name below "
      ],
      "metadata": {}
    },
    {
      "cell_type": "code",
      "source": [
        "# Specify the name of the Conda environment or run this code if you are activating\n",
        "environment_name = 'testenv'\n"
      ],
      "outputs": [],
      "execution_count": 22,
      "metadata": {}
    },
    {
      "cell_type": "markdown",
      "source": [
        "## Setting up the enviroment "
      ],
      "metadata": {}
    },
    {
      "cell_type": "markdown",
      "source": [
        "### Creating an environment from scratch\n",
        "\n",
        "If you are the first person using this repository, you need to create an environment file from scratch. The code below performs that task and saves the environment configuration to an `environment.yml` file. This file will allow future users of the repository to access your exact environment settings, thereby allowing them to easily reporduce your code. "
      ],
      "metadata": {
        "nteract": {
          "transient": {
            "deleting": false
          }
        }
      }
    },
    {
      "cell_type": "markdown",
      "source": [
        "### Creating an environment from an existing `environment.yml` file\n",
        "\n",
        "If you are using this repository to reproduce or modify existing code, you need to reproduce the existing environment. The code below allow you to set up an enviroment from an existing environment file. Environment files are named `environment.yml`. All you need to do is decide on an enviroment name by changing the name **file_name**. "
      ],
      "metadata": {}
    },
    {
      "cell_type": "code",
      "source": [
        "import os\n",
        "import subprocess\n",
        "import sys\n",
        "\n",
        "def create_conda_environment(environment_file):\n",
        "    # Create the Conda environment using the provided environment.yml file\n",
        "    subprocess.run(['conda', 'env', 'create', '-f', environment_file])\n",
        "    \n",
        "\n",
        "def export_environment(environment_name, environment_file):\n",
        "    # Export the Conda environment to environment.yml file in the local folder\n",
        "    subprocess.run(['conda', 'env', 'export', '-n', environment_name, '--file', environment_file])\n",
        "\n",
        "\n",
        "def activate_conda_environment(environment_name):\n",
        "    # Activate the Conda environment\n",
        "    if 'win' in sys.platform:\n",
        "        activate_cmd = f'conda activate {environment_name}'\n",
        "    else:\n",
        "        activate_cmd = f'source activate {environment_name}'\n",
        "    subprocess.run(activate_cmd, shell=True)\n",
        "\n",
        "# Get the current working directory\n",
        "current_folder = os.getcwd()\n",
        "\n",
        "# Specify the path to the environment.yml file\n",
        "\n",
        "file_name ='environment.yml'\n",
        "\n",
        "environment_file =  os.path.join(current_folder, file_name)\n",
        "\n",
        "\n",
        "\n",
        "# Print the current folder path\n",
        "print(\"env file:\", environment_file)\n",
        "\n",
        "# Create and activate the Conda environment\n",
        "create_conda_environment(environment_file)\n",
        "activate_conda_environment(environment_name)\n",
        "\n",
        "# Export the Conda environment to environment.yml file in the local folder\n",
        "export_environment(environment_name, environment_file)\n",
        "\n",
        "# Print the path to the environment.yml file\n",
        "print(\"Environment file saved at:\", environment_file)\n"
      ],
      "outputs": [
        {
          "output_type": "stream",
          "name": "stdout",
          "text": [
            "env file: /Users/agoldenberg/Dropbox (Harvard University)/lab/lab-github/python-project-template/environment.yml\n",
            "Environment file saved at: /Users/agoldenberg/Dropbox (Harvard University)/lab/lab-github/python-project-template/environment.yml\n"
          ]
        }
      ],
      "execution_count": 31,
      "metadata": {}
    },
    {
      "cell_type": "markdown",
      "source": [
        "### Check if the environment is activated"
      ],
      "metadata": {}
    },
    {
      "cell_type": "code",
      "source": [
        "#run this code to check if the environment is activated\n",
        "\n",
        "def is_conda_environment():\n",
        "    conda_prefix = os.environ.get('CONDA_PREFIX', '')\n",
        "    return conda_prefix != ''\n",
        "\n",
        "# Check if Conda environment is activated\n",
        "if is_conda_environment():\n",
        "    print(\"Conda environment is activated.\")\n",
        "else:\n",
        "    print(\"Conda environment is not activated.\")"
      ],
      "outputs": [
        {
          "output_type": "stream",
          "name": "stdout",
          "text": [
            "Conda environment is activated.\n"
          ]
        }
      ],
      "execution_count": 27,
      "metadata": {}
    },
    {
      "cell_type": "markdown",
      "source": [
        "### Install modules\n",
        "\n",
        "Below you can add the modules that you want your environment to have"
      ],
      "metadata": {}
    },
    {
      "cell_type": "code",
      "source": [
        "\n",
        "def install_package(package_name):\n",
        "    # Check if the package is already installed\n",
        "    result = subprocess.run(['conda', 'list', package_name], capture_output=True, text=True)\n",
        "\n",
        "    if package_name in result.stdout:\n",
        "        print(\"Package is already installed.\")\n",
        "    else:\n",
        "        # Install the package in the activated Conda environment and capture the output\n",
        "        result = subprocess.run(['conda', 'install', '-n', 'myenv', package_name], capture_output=True, text=True)\n",
        "\n",
        "        # Check if the installation was successful\n",
        "        if result.returncode == 0:\n",
        "            print(\"Success: Package installation completed.\")\n",
        "        else:\n",
        "            print(\"Error: Package installation failed.\")\n",
        "            print(result.stderr)\n",
        "\n",
        "# Install a package in the Conda environment\n",
        "install_package('numpy')\n"
      ],
      "outputs": [
        {
          "output_type": "stream",
          "name": "stdout",
          "text": [
            "Package is already installed.\n"
          ]
        }
      ],
      "execution_count": 28,
      "metadata": {}
    },
    {
      "cell_type": "markdown",
      "source": [
        "### activate the module.\n",
        "\n",
        "#### Make sure that you specified the enviroment name. "
      ],
      "metadata": {}
    },
    {
      "cell_type": "code",
      "source": [
        "import subprocess\n",
        "import sys\n",
        "\n",
        "def activate_conda_environment(environment_name):\n",
        "    # Activate the Conda environment\n",
        "    if 'win' in sys.platform:\n",
        "        activate_cmd = f'conda activate {environment_name}'\n",
        "    else:\n",
        "        activate_cmd = f'source activate {environment_name}'\n",
        "    subprocess.run(activate_cmd, shell=True)\n",
        "\n",
        "# Specify the name of the Conda environment\n",
        "\n",
        "# Activate the Conda environment\n",
        "activate_conda_environment(environment_name)\n"
      ],
      "outputs": [],
      "execution_count": 32,
      "metadata": {}
    },
    {
      "cell_type": "code",
      "source": [],
      "outputs": [],
      "execution_count": null,
      "metadata": {}
    }
  ],
  "metadata": {
    "kernelspec": {
      "display_name": "Python 3",
      "language": "python",
      "name": "python3"
    },
    "language_info": {
      "codemirror_mode": {
        "name": "ipython",
        "version": 3
      },
      "file_extension": ".py",
      "mimetype": "text/x-python",
      "name": "python",
      "nbconvert_exporter": "python",
      "pygments_lexer": "ipython3",
      "version": "3.8.3"
    },
    "nteract": {
      "version": "0.28.0"
    }
  },
  "nbformat": 4,
  "nbformat_minor": 4
}